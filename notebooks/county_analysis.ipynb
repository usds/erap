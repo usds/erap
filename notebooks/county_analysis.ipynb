{
 "cells": [
  {
   "cell_type": "code",
   "execution_count": 1,
   "id": "a3404f49-8b89-423a-a6bf-5de047204e96",
   "metadata": {},
   "outputs": [],
   "source": [
    "import pandas as pd\n",
    "%load_ext sql"
   ]
  },
  {
   "cell_type": "markdown",
   "id": "7d24c7c5-71c8-469e-901d-cc20bc11d242",
   "metadata": {},
   "source": [
    "Connect to the database, load up HUD's section 8 income limits and all the counties"
   ]
  },
  {
   "cell_type": "code",
   "execution_count": 2,
   "id": "04efc06a-4128-454d-bbc7-bfbf86c85546",
   "metadata": {},
   "outputs": [
    {
     "name": "stdout",
     "output_type": "stream",
     "text": [
      "1 rows affected.\n"
     ]
    },
    {
     "data": {
      "text/html": [
       "<table>\n",
       "    <thead>\n",
       "        <tr>\n",
       "            <th>?column?</th>\n",
       "        </tr>\n",
       "    </thead>\n",
       "    <tbody>\n",
       "        <tr>\n",
       "            <td>1</td>\n",
       "        </tr>\n",
       "    </tbody>\n",
       "</table>"
      ],
      "text/plain": [
       "[(1,)]"
      ]
     },
     "execution_count": 2,
     "metadata": {},
     "output_type": "execute_result"
    }
   ],
   "source": [
    "%%sql postgresql://matt@localhost/geocoder\n",
    "select 1;"
   ]
  },
  {
   "cell_type": "code",
   "execution_count": 3,
   "id": "e0c51a64-3379-444a-8fb2-5636d532776d",
   "metadata": {},
   "outputs": [],
   "source": [
    "hud_data = pd.read_excel('../arp_pipeline/data/hud/Section8-FY21.xlsx', dtype='object')"
   ]
  },
  {
   "cell_type": "code",
   "execution_count": 4,
   "id": "d9319c98-f0a3-459e-973e-9f527e42e0f9",
   "metadata": {},
   "outputs": [
    {
     "name": "stdout",
     "output_type": "stream",
     "text": [
      " * postgresql://matt@localhost/geocoder\n",
      "3233 rows affected.\n"
     ]
    }
   ],
   "source": [
    "county_query = %sql select county.cntyidfp, county.statefp, county.countyfp, county.name, stusps from tiger.county county, tiger_data.state_all state where county.statefp = state.statefp; "
   ]
  },
  {
   "cell_type": "code",
   "execution_count": 5,
   "id": "9d621aa8-32ed-4e1a-8af2-a2518f730abc",
   "metadata": {},
   "outputs": [],
   "source": [
    "tiger_data = county_query.DataFrame()"
   ]
  },
  {
   "cell_type": "code",
   "execution_count": 6,
   "id": "5bf5204e-f1c6-42b2-a165-9ea063738abb",
   "metadata": {},
   "outputs": [],
   "source": [
    "tiger_data['fips2010'] = tiger_data.apply(lambda row: f\"{row.cntyidfp}99999\", axis=1)"
   ]
  },
  {
   "cell_type": "code",
   "execution_count": 7,
   "id": "88efba0d-5f8a-4fa7-b239-c19950ea8dd1",
   "metadata": {},
   "outputs": [
    {
     "data": {
      "text/plain": [
       "(4766, 36)"
      ]
     },
     "execution_count": 7,
     "metadata": {},
     "output_type": "execute_result"
    }
   ],
   "source": [
    "hud_data.shape"
   ]
  },
  {
   "cell_type": "code",
   "execution_count": 8,
   "id": "944ec1f2-451a-447b-9eb1-a45d1677c63f",
   "metadata": {},
   "outputs": [
    {
     "data": {
      "text/html": [
       "<div>\n",
       "<style scoped>\n",
       "    .dataframe tbody tr th:only-of-type {\n",
       "        vertical-align: middle;\n",
       "    }\n",
       "\n",
       "    .dataframe tbody tr th {\n",
       "        vertical-align: top;\n",
       "    }\n",
       "\n",
       "    .dataframe thead th {\n",
       "        text-align: right;\n",
       "    }\n",
       "</style>\n",
       "<table border=\"1\" class=\"dataframe\">\n",
       "  <thead>\n",
       "    <tr style=\"text-align: right;\">\n",
       "      <th></th>\n",
       "      <th>State_Alpha</th>\n",
       "      <th>fips2010</th>\n",
       "      <th>State</th>\n",
       "      <th>County</th>\n",
       "      <th>cbsasub</th>\n",
       "      <th>Metro_Area_Name</th>\n",
       "      <th>County_Name</th>\n",
       "      <th>median2021</th>\n",
       "      <th>l50_1</th>\n",
       "      <th>l50_2</th>\n",
       "      <th>...</th>\n",
       "      <th>l80_3</th>\n",
       "      <th>l80_4</th>\n",
       "      <th>l80_5</th>\n",
       "      <th>l80_6</th>\n",
       "      <th>l80_7</th>\n",
       "      <th>l80_8</th>\n",
       "      <th>MSA</th>\n",
       "      <th>county_town_name</th>\n",
       "      <th>state_name</th>\n",
       "      <th>metro</th>\n",
       "    </tr>\n",
       "  </thead>\n",
       "  <tbody>\n",
       "    <tr>\n",
       "      <th>480</th>\n",
       "      <td>DC</td>\n",
       "      <td>1100199999</td>\n",
       "      <td>11</td>\n",
       "      <td>1</td>\n",
       "      <td>METRO47900M47900</td>\n",
       "      <td>Washington-Arlington-Alexandria, DC-VA-MD HUD ...</td>\n",
       "      <td>District of Columbia</td>\n",
       "      <td>129000</td>\n",
       "      <td>45150</td>\n",
       "      <td>51600</td>\n",
       "      <td>...</td>\n",
       "      <td>74100</td>\n",
       "      <td>82300</td>\n",
       "      <td>88900</td>\n",
       "      <td>95500</td>\n",
       "      <td>102100</td>\n",
       "      <td>108650</td>\n",
       "      <td>8840</td>\n",
       "      <td>District of Columbia</td>\n",
       "      <td>District of Columbia</td>\n",
       "      <td>1</td>\n",
       "    </tr>\n",
       "  </tbody>\n",
       "</table>\n",
       "<p>1 rows × 36 columns</p>\n",
       "</div>"
      ],
      "text/plain": [
       "    State_Alpha    fips2010 State County           cbsasub  \\\n",
       "480          DC  1100199999    11      1  METRO47900M47900   \n",
       "\n",
       "                                       Metro_Area_Name           County_Name  \\\n",
       "480  Washington-Arlington-Alexandria, DC-VA-MD HUD ...  District of Columbia   \n",
       "\n",
       "    median2021  l50_1  l50_2  ...  l80_3  l80_4  l80_5  l80_6   l80_7   l80_8  \\\n",
       "480     129000  45150  51600  ...  74100  82300  88900  95500  102100  108650   \n",
       "\n",
       "      MSA      county_town_name            state_name metro  \n",
       "480  8840  District of Columbia  District of Columbia     1  \n",
       "\n",
       "[1 rows x 36 columns]"
      ]
     },
     "execution_count": 8,
     "metadata": {},
     "output_type": "execute_result"
    }
   ],
   "source": [
    "hud_data[hud_data.State_Alpha=='DC'].head()"
   ]
  },
  {
   "cell_type": "code",
   "execution_count": 9,
   "id": "566f6fc0-4b22-4d5e-8f77-ffabfc571eeb",
   "metadata": {
    "tags": []
   },
   "outputs": [
    {
     "data": {
      "text/html": [
       "<div>\n",
       "<style scoped>\n",
       "    .dataframe tbody tr th:only-of-type {\n",
       "        vertical-align: middle;\n",
       "    }\n",
       "\n",
       "    .dataframe tbody tr th {\n",
       "        vertical-align: top;\n",
       "    }\n",
       "\n",
       "    .dataframe thead th {\n",
       "        text-align: right;\n",
       "    }\n",
       "</style>\n",
       "<table border=\"1\" class=\"dataframe\">\n",
       "  <thead>\n",
       "    <tr style=\"text-align: right;\">\n",
       "      <th></th>\n",
       "      <th>State_Alpha</th>\n",
       "      <th>fips2010</th>\n",
       "      <th>State</th>\n",
       "      <th>County</th>\n",
       "      <th>cbsasub</th>\n",
       "      <th>Metro_Area_Name</th>\n",
       "      <th>County_Name</th>\n",
       "      <th>median2021</th>\n",
       "      <th>l50_1</th>\n",
       "      <th>l50_2</th>\n",
       "      <th>...</th>\n",
       "      <th>l80_3</th>\n",
       "      <th>l80_4</th>\n",
       "      <th>l80_5</th>\n",
       "      <th>l80_6</th>\n",
       "      <th>l80_7</th>\n",
       "      <th>l80_8</th>\n",
       "      <th>MSA</th>\n",
       "      <th>county_town_name</th>\n",
       "      <th>state_name</th>\n",
       "      <th>metro</th>\n",
       "    </tr>\n",
       "  </thead>\n",
       "  <tbody>\n",
       "    <tr>\n",
       "      <th>4360</th>\n",
       "      <td>VA</td>\n",
       "      <td>5100199999</td>\n",
       "      <td>51</td>\n",
       "      <td>1</td>\n",
       "      <td>NCNTY51001N51001</td>\n",
       "      <td>Accomack County, VA</td>\n",
       "      <td>Accomack County</td>\n",
       "      <td>57500</td>\n",
       "      <td>20900</td>\n",
       "      <td>23900</td>\n",
       "      <td>...</td>\n",
       "      <td>43000</td>\n",
       "      <td>47750</td>\n",
       "      <td>51600</td>\n",
       "      <td>55400</td>\n",
       "      <td>59250</td>\n",
       "      <td>63050</td>\n",
       "      <td>9999</td>\n",
       "      <td>Accomack County</td>\n",
       "      <td>Virginia</td>\n",
       "      <td>0</td>\n",
       "    </tr>\n",
       "    <tr>\n",
       "      <th>4362</th>\n",
       "      <td>VA</td>\n",
       "      <td>5100599999</td>\n",
       "      <td>51</td>\n",
       "      <td>5</td>\n",
       "      <td>NCNTY51005N51005</td>\n",
       "      <td>Alleghany County-Clifton Forge city-Covington ...</td>\n",
       "      <td>Alleghany County</td>\n",
       "      <td>60700</td>\n",
       "      <td>21250</td>\n",
       "      <td>24300</td>\n",
       "      <td>...</td>\n",
       "      <td>43700</td>\n",
       "      <td>48550</td>\n",
       "      <td>52450</td>\n",
       "      <td>56350</td>\n",
       "      <td>60250</td>\n",
       "      <td>64100</td>\n",
       "      <td>9999</td>\n",
       "      <td>Alleghany County</td>\n",
       "      <td>Virginia</td>\n",
       "      <td>0</td>\n",
       "    </tr>\n",
       "    <tr>\n",
       "      <th>4461</th>\n",
       "      <td>VA</td>\n",
       "      <td>5158099999</td>\n",
       "      <td>51</td>\n",
       "      <td>580</td>\n",
       "      <td>NCNTY51005N51005</td>\n",
       "      <td>Alleghany County-Clifton Forge city-Covington ...</td>\n",
       "      <td>Covington city</td>\n",
       "      <td>60700</td>\n",
       "      <td>21250</td>\n",
       "      <td>24300</td>\n",
       "      <td>...</td>\n",
       "      <td>43700</td>\n",
       "      <td>48550</td>\n",
       "      <td>52450</td>\n",
       "      <td>56350</td>\n",
       "      <td>60250</td>\n",
       "      <td>64100</td>\n",
       "      <td>9999</td>\n",
       "      <td>Covington city</td>\n",
       "      <td>Virginia</td>\n",
       "      <td>0</td>\n",
       "    </tr>\n",
       "    <tr>\n",
       "      <th>4368</th>\n",
       "      <td>VA</td>\n",
       "      <td>5101799999</td>\n",
       "      <td>51</td>\n",
       "      <td>17</td>\n",
       "      <td>NCNTY51017N51017</td>\n",
       "      <td>Bath County, VA</td>\n",
       "      <td>Bath County</td>\n",
       "      <td>61900</td>\n",
       "      <td>21850</td>\n",
       "      <td>25000</td>\n",
       "      <td>...</td>\n",
       "      <td>44950</td>\n",
       "      <td>49900</td>\n",
       "      <td>53900</td>\n",
       "      <td>57900</td>\n",
       "      <td>61900</td>\n",
       "      <td>65900</td>\n",
       "      <td>9999</td>\n",
       "      <td>Bath County</td>\n",
       "      <td>Virginia</td>\n",
       "      <td>0</td>\n",
       "    </tr>\n",
       "    <tr>\n",
       "      <th>4483</th>\n",
       "      <td>VA</td>\n",
       "      <td>5175099999</td>\n",
       "      <td>51</td>\n",
       "      <td>750</td>\n",
       "      <td>METRO13980M13980</td>\n",
       "      <td>Blacksburg-Christiansburg-Radford, VA HUD Metr...</td>\n",
       "      <td>Radford city</td>\n",
       "      <td>79700</td>\n",
       "      <td>27900</td>\n",
       "      <td>31900</td>\n",
       "      <td>...</td>\n",
       "      <td>57400</td>\n",
       "      <td>63750</td>\n",
       "      <td>68850</td>\n",
       "      <td>73950</td>\n",
       "      <td>79050</td>\n",
       "      <td>84150</td>\n",
       "      <td>9999</td>\n",
       "      <td>Radford city</td>\n",
       "      <td>Virginia</td>\n",
       "      <td>1</td>\n",
       "    </tr>\n",
       "    <tr>\n",
       "      <th>...</th>\n",
       "      <td>...</td>\n",
       "      <td>...</td>\n",
       "      <td>...</td>\n",
       "      <td>...</td>\n",
       "      <td>...</td>\n",
       "      <td>...</td>\n",
       "      <td>...</td>\n",
       "      <td>...</td>\n",
       "      <td>...</td>\n",
       "      <td>...</td>\n",
       "      <td>...</td>\n",
       "      <td>...</td>\n",
       "      <td>...</td>\n",
       "      <td>...</td>\n",
       "      <td>...</td>\n",
       "      <td>...</td>\n",
       "      <td>...</td>\n",
       "      <td>...</td>\n",
       "      <td>...</td>\n",
       "      <td>...</td>\n",
       "      <td>...</td>\n",
       "    </tr>\n",
       "    <tr>\n",
       "      <th>4492</th>\n",
       "      <td>VA</td>\n",
       "      <td>5184099999</td>\n",
       "      <td>51</td>\n",
       "      <td>840</td>\n",
       "      <td>METRO49020M49020</td>\n",
       "      <td>Winchester, VA-WV MSA</td>\n",
       "      <td>Winchester city</td>\n",
       "      <td>81400</td>\n",
       "      <td>28500</td>\n",
       "      <td>32600</td>\n",
       "      <td>...</td>\n",
       "      <td>58600</td>\n",
       "      <td>65100</td>\n",
       "      <td>70350</td>\n",
       "      <td>75550</td>\n",
       "      <td>80750</td>\n",
       "      <td>85950</td>\n",
       "      <td>9999</td>\n",
       "      <td>Winchester city</td>\n",
       "      <td>Virginia</td>\n",
       "      <td>1</td>\n",
       "    </tr>\n",
       "    <tr>\n",
       "      <th>4393</th>\n",
       "      <td>VA</td>\n",
       "      <td>5106999999</td>\n",
       "      <td>51</td>\n",
       "      <td>69</td>\n",
       "      <td>METRO49020M49020</td>\n",
       "      <td>Winchester, VA-WV MSA</td>\n",
       "      <td>Frederick County</td>\n",
       "      <td>81400</td>\n",
       "      <td>28500</td>\n",
       "      <td>32600</td>\n",
       "      <td>...</td>\n",
       "      <td>58600</td>\n",
       "      <td>65100</td>\n",
       "      <td>70350</td>\n",
       "      <td>75550</td>\n",
       "      <td>80750</td>\n",
       "      <td>85950</td>\n",
       "      <td>9999</td>\n",
       "      <td>Frederick County</td>\n",
       "      <td>Virginia</td>\n",
       "      <td>1</td>\n",
       "    </tr>\n",
       "    <tr>\n",
       "      <th>4452</th>\n",
       "      <td>VA</td>\n",
       "      <td>5119599999</td>\n",
       "      <td>51</td>\n",
       "      <td>195</td>\n",
       "      <td>NCNTY51195N51195</td>\n",
       "      <td>Wise County-Norton city, VA HUD Nonmetro FMR Area</td>\n",
       "      <td>Wise County</td>\n",
       "      <td>49000</td>\n",
       "      <td>20900</td>\n",
       "      <td>23900</td>\n",
       "      <td>...</td>\n",
       "      <td>43000</td>\n",
       "      <td>47750</td>\n",
       "      <td>51600</td>\n",
       "      <td>55400</td>\n",
       "      <td>59250</td>\n",
       "      <td>63050</td>\n",
       "      <td>9999</td>\n",
       "      <td>Wise County</td>\n",
       "      <td>Virginia</td>\n",
       "      <td>0</td>\n",
       "    </tr>\n",
       "    <tr>\n",
       "      <th>4479</th>\n",
       "      <td>VA</td>\n",
       "      <td>5172099999</td>\n",
       "      <td>51</td>\n",
       "      <td>720</td>\n",
       "      <td>NCNTY51195N51195</td>\n",
       "      <td>Wise County-Norton city, VA HUD Nonmetro FMR Area</td>\n",
       "      <td>Norton city</td>\n",
       "      <td>49000</td>\n",
       "      <td>20900</td>\n",
       "      <td>23900</td>\n",
       "      <td>...</td>\n",
       "      <td>43000</td>\n",
       "      <td>47750</td>\n",
       "      <td>51600</td>\n",
       "      <td>55400</td>\n",
       "      <td>59250</td>\n",
       "      <td>63050</td>\n",
       "      <td>9999</td>\n",
       "      <td>Norton city</td>\n",
       "      <td>Virginia</td>\n",
       "      <td>0</td>\n",
       "    </tr>\n",
       "    <tr>\n",
       "      <th>4453</th>\n",
       "      <td>VA</td>\n",
       "      <td>5119799999</td>\n",
       "      <td>51</td>\n",
       "      <td>197</td>\n",
       "      <td>NCNTY51197N51197</td>\n",
       "      <td>Wythe County, VA</td>\n",
       "      <td>Wythe County</td>\n",
       "      <td>60800</td>\n",
       "      <td>21300</td>\n",
       "      <td>24350</td>\n",
       "      <td>...</td>\n",
       "      <td>43800</td>\n",
       "      <td>48650</td>\n",
       "      <td>52550</td>\n",
       "      <td>56450</td>\n",
       "      <td>60350</td>\n",
       "      <td>64250</td>\n",
       "      <td>9999</td>\n",
       "      <td>Wythe County</td>\n",
       "      <td>Virginia</td>\n",
       "      <td>0</td>\n",
       "    </tr>\n",
       "  </tbody>\n",
       "</table>\n",
       "<p>133 rows × 36 columns</p>\n",
       "</div>"
      ],
      "text/plain": [
       "     State_Alpha    fips2010 State County           cbsasub  \\\n",
       "4360          VA  5100199999    51      1  NCNTY51001N51001   \n",
       "4362          VA  5100599999    51      5  NCNTY51005N51005   \n",
       "4461          VA  5158099999    51    580  NCNTY51005N51005   \n",
       "4368          VA  5101799999    51     17  NCNTY51017N51017   \n",
       "4483          VA  5175099999    51    750  METRO13980M13980   \n",
       "...          ...         ...   ...    ...               ...   \n",
       "4492          VA  5184099999    51    840  METRO49020M49020   \n",
       "4393          VA  5106999999    51     69  METRO49020M49020   \n",
       "4452          VA  5119599999    51    195  NCNTY51195N51195   \n",
       "4479          VA  5172099999    51    720  NCNTY51195N51195   \n",
       "4453          VA  5119799999    51    197  NCNTY51197N51197   \n",
       "\n",
       "                                        Metro_Area_Name       County_Name  \\\n",
       "4360                                Accomack County, VA   Accomack County   \n",
       "4362  Alleghany County-Clifton Forge city-Covington ...  Alleghany County   \n",
       "4461  Alleghany County-Clifton Forge city-Covington ...    Covington city   \n",
       "4368                                    Bath County, VA       Bath County   \n",
       "4483  Blacksburg-Christiansburg-Radford, VA HUD Metr...      Radford city   \n",
       "...                                                 ...               ...   \n",
       "4492                              Winchester, VA-WV MSA   Winchester city   \n",
       "4393                              Winchester, VA-WV MSA  Frederick County   \n",
       "4452  Wise County-Norton city, VA HUD Nonmetro FMR Area       Wise County   \n",
       "4479  Wise County-Norton city, VA HUD Nonmetro FMR Area       Norton city   \n",
       "4453                                   Wythe County, VA      Wythe County   \n",
       "\n",
       "     median2021  l50_1  l50_2  ...  l80_3  l80_4  l80_5  l80_6  l80_7  l80_8  \\\n",
       "4360      57500  20900  23900  ...  43000  47750  51600  55400  59250  63050   \n",
       "4362      60700  21250  24300  ...  43700  48550  52450  56350  60250  64100   \n",
       "4461      60700  21250  24300  ...  43700  48550  52450  56350  60250  64100   \n",
       "4368      61900  21850  25000  ...  44950  49900  53900  57900  61900  65900   \n",
       "4483      79700  27900  31900  ...  57400  63750  68850  73950  79050  84150   \n",
       "...         ...    ...    ...  ...    ...    ...    ...    ...    ...    ...   \n",
       "4492      81400  28500  32600  ...  58600  65100  70350  75550  80750  85950   \n",
       "4393      81400  28500  32600  ...  58600  65100  70350  75550  80750  85950   \n",
       "4452      49000  20900  23900  ...  43000  47750  51600  55400  59250  63050   \n",
       "4479      49000  20900  23900  ...  43000  47750  51600  55400  59250  63050   \n",
       "4453      60800  21300  24350  ...  43800  48650  52550  56450  60350  64250   \n",
       "\n",
       "       MSA  county_town_name state_name metro  \n",
       "4360  9999   Accomack County   Virginia     0  \n",
       "4362  9999  Alleghany County   Virginia     0  \n",
       "4461  9999    Covington city   Virginia     0  \n",
       "4368  9999       Bath County   Virginia     0  \n",
       "4483  9999      Radford city   Virginia     1  \n",
       "...    ...               ...        ...   ...  \n",
       "4492  9999   Winchester city   Virginia     1  \n",
       "4393  9999  Frederick County   Virginia     1  \n",
       "4452  9999       Wise County   Virginia     0  \n",
       "4479  9999       Norton city   Virginia     0  \n",
       "4453  9999      Wythe County   Virginia     0  \n",
       "\n",
       "[133 rows x 36 columns]"
      ]
     },
     "execution_count": 9,
     "metadata": {},
     "output_type": "execute_result"
    }
   ],
   "source": [
    "hud_data[hud_data.State_Alpha=='VA'].sort_values('Metro_Area_Name')"
   ]
  },
  {
   "cell_type": "code",
   "execution_count": null,
   "id": "06e2ce57-0601-41b9-964a-7bd5c32a0479",
   "metadata": {},
   "outputs": [],
   "source": []
  },
  {
   "cell_type": "markdown",
   "id": "0b2274af-0140-4f36-8be3-60115c62d002",
   "metadata": {},
   "source": [
    "# Are the FIPS2010 codes just County Codes in the Tiger Data?\n",
    "Okay, so HUD has 4766 rows, but there are only 3234 counties. First question: How many of HUDs \"fips2010\" IDs are just counties, vs how many aren't?"
   ]
  },
  {
   "cell_type": "code",
   "execution_count": 10,
   "id": "be217879-4b46-452a-84f5-394e7babfc90",
   "metadata": {},
   "outputs": [],
   "source": [
    "hud_and_tiger = pd.merge(left=hud_data, right=tiger_data, on='fips2010', how='left')"
   ]
  },
  {
   "cell_type": "code",
   "execution_count": 25,
   "id": "065ab538-928f-4617-bdbc-097dc0396958",
   "metadata": {},
   "outputs": [
    {
     "data": {
      "text/plain": [
       "State_Alpha\n",
       "ME    533\n",
       "MA    351\n",
       "NH    259\n",
       "VT    255\n",
       "CT    169\n",
       "RI     39\n",
       "AS      1\n",
       "MO      1\n",
       "MP      1\n",
       "dtype: int64"
      ]
     },
     "execution_count": 25,
     "metadata": {},
     "output_type": "execute_result"
    }
   ],
   "source": [
    "hud_and_tiger[pd.isnull(hud_and_tiger.statefp)].value_counts('State_Alpha')"
   ]
  },
  {
   "cell_type": "code",
   "execution_count": 12,
   "id": "f508731b-6e01-4d2c-9ca1-5bda5b686de2",
   "metadata": {},
   "outputs": [
    {
     "data": {
      "text/plain": [
       "(4766, 41)"
      ]
     },
     "execution_count": 12,
     "metadata": {},
     "output_type": "execute_result"
    }
   ],
   "source": [
    "hud_and_tiger.shape"
   ]
  },
  {
   "cell_type": "markdown",
   "id": "31268010-5d4f-47df-ad08-4f13c8f34763",
   "metadata": {},
   "source": [
    "## Answer: _Mostly!_\n",
    "So, for all but the above states, the FIPs 2010 codes are really just the county ID's in TIGER. \n",
    "\n",
    "The ones that have a single missing county give me pause, but let's look randomly at one in ME and see if it's a `County Subdivision`"
   ]
  },
  {
   "cell_type": "markdown",
   "id": "2ea56731-59a0-44f0-aa15-7b452d0c48e0",
   "metadata": {},
   "source": [
    "# Are the remaining FIPS2010 codes Tiger County Subdivisions?"
   ]
  },
  {
   "cell_type": "code",
   "execution_count": 13,
   "id": "a5181d11-3cd2-484f-9367-5c0e97db494a",
   "metadata": {},
   "outputs": [
    {
     "data": {
      "text/html": [
       "<div>\n",
       "<style scoped>\n",
       "    .dataframe tbody tr th:only-of-type {\n",
       "        vertical-align: middle;\n",
       "    }\n",
       "\n",
       "    .dataframe tbody tr th {\n",
       "        vertical-align: top;\n",
       "    }\n",
       "\n",
       "    .dataframe thead th {\n",
       "        text-align: right;\n",
       "    }\n",
       "</style>\n",
       "<table border=\"1\" class=\"dataframe\">\n",
       "  <thead>\n",
       "    <tr style=\"text-align: right;\">\n",
       "      <th></th>\n",
       "      <th>State_Alpha</th>\n",
       "      <th>fips2010</th>\n",
       "      <th>State</th>\n",
       "      <th>County</th>\n",
       "      <th>cbsasub</th>\n",
       "      <th>Metro_Area_Name</th>\n",
       "      <th>County_Name</th>\n",
       "      <th>median2021</th>\n",
       "      <th>l50_1</th>\n",
       "      <th>l50_2</th>\n",
       "      <th>...</th>\n",
       "      <th>l80_3</th>\n",
       "      <th>l80_4</th>\n",
       "      <th>l80_5</th>\n",
       "      <th>l80_6</th>\n",
       "      <th>l80_7</th>\n",
       "      <th>l80_8</th>\n",
       "      <th>MSA</th>\n",
       "      <th>county_town_name</th>\n",
       "      <th>state_name</th>\n",
       "      <th>metro</th>\n",
       "    </tr>\n",
       "  </thead>\n",
       "  <tbody>\n",
       "    <tr>\n",
       "      <th>1338</th>\n",
       "      <td>ME</td>\n",
       "      <td>2300102060</td>\n",
       "      <td>23</td>\n",
       "      <td>1</td>\n",
       "      <td>METRO30340M30340</td>\n",
       "      <td>Lewiston-Auburn, ME MSA</td>\n",
       "      <td>Androscoggin County</td>\n",
       "      <td>71200</td>\n",
       "      <td>24950</td>\n",
       "      <td>28500</td>\n",
       "      <td>...</td>\n",
       "      <td>51300</td>\n",
       "      <td>56950</td>\n",
       "      <td>61550</td>\n",
       "      <td>66100</td>\n",
       "      <td>70650</td>\n",
       "      <td>75200</td>\n",
       "      <td>4240</td>\n",
       "      <td>Auburn city</td>\n",
       "      <td>Maine</td>\n",
       "      <td>1</td>\n",
       "    </tr>\n",
       "    <tr>\n",
       "      <th>1339</th>\n",
       "      <td>ME</td>\n",
       "      <td>2300119105</td>\n",
       "      <td>23</td>\n",
       "      <td>1</td>\n",
       "      <td>METRO30340M30340</td>\n",
       "      <td>Lewiston-Auburn, ME MSA</td>\n",
       "      <td>Androscoggin County</td>\n",
       "      <td>71200</td>\n",
       "      <td>24950</td>\n",
       "      <td>28500</td>\n",
       "      <td>...</td>\n",
       "      <td>51300</td>\n",
       "      <td>56950</td>\n",
       "      <td>61550</td>\n",
       "      <td>66100</td>\n",
       "      <td>70650</td>\n",
       "      <td>75200</td>\n",
       "      <td>9999</td>\n",
       "      <td>Durham town</td>\n",
       "      <td>Maine</td>\n",
       "      <td>1</td>\n",
       "    </tr>\n",
       "    <tr>\n",
       "      <th>1340</th>\n",
       "      <td>ME</td>\n",
       "      <td>2300129255</td>\n",
       "      <td>23</td>\n",
       "      <td>1</td>\n",
       "      <td>METRO30340M30340</td>\n",
       "      <td>Lewiston-Auburn, ME MSA</td>\n",
       "      <td>Androscoggin County</td>\n",
       "      <td>71200</td>\n",
       "      <td>24950</td>\n",
       "      <td>28500</td>\n",
       "      <td>...</td>\n",
       "      <td>51300</td>\n",
       "      <td>56950</td>\n",
       "      <td>61550</td>\n",
       "      <td>66100</td>\n",
       "      <td>70650</td>\n",
       "      <td>75200</td>\n",
       "      <td>4240</td>\n",
       "      <td>Greene town</td>\n",
       "      <td>Maine</td>\n",
       "      <td>1</td>\n",
       "    </tr>\n",
       "    <tr>\n",
       "      <th>1341</th>\n",
       "      <td>ME</td>\n",
       "      <td>2300138565</td>\n",
       "      <td>23</td>\n",
       "      <td>1</td>\n",
       "      <td>METRO30340M30340</td>\n",
       "      <td>Lewiston-Auburn, ME MSA</td>\n",
       "      <td>Androscoggin County</td>\n",
       "      <td>71200</td>\n",
       "      <td>24950</td>\n",
       "      <td>28500</td>\n",
       "      <td>...</td>\n",
       "      <td>51300</td>\n",
       "      <td>56950</td>\n",
       "      <td>61550</td>\n",
       "      <td>66100</td>\n",
       "      <td>70650</td>\n",
       "      <td>75200</td>\n",
       "      <td>9999</td>\n",
       "      <td>Leeds town</td>\n",
       "      <td>Maine</td>\n",
       "      <td>1</td>\n",
       "    </tr>\n",
       "    <tr>\n",
       "      <th>1342</th>\n",
       "      <td>ME</td>\n",
       "      <td>2300138740</td>\n",
       "      <td>23</td>\n",
       "      <td>1</td>\n",
       "      <td>METRO30340M30340</td>\n",
       "      <td>Lewiston-Auburn, ME MSA</td>\n",
       "      <td>Androscoggin County</td>\n",
       "      <td>71200</td>\n",
       "      <td>24950</td>\n",
       "      <td>28500</td>\n",
       "      <td>...</td>\n",
       "      <td>51300</td>\n",
       "      <td>56950</td>\n",
       "      <td>61550</td>\n",
       "      <td>66100</td>\n",
       "      <td>70650</td>\n",
       "      <td>75200</td>\n",
       "      <td>4240</td>\n",
       "      <td>Lewiston city</td>\n",
       "      <td>Maine</td>\n",
       "      <td>1</td>\n",
       "    </tr>\n",
       "  </tbody>\n",
       "</table>\n",
       "<p>5 rows × 36 columns</p>\n",
       "</div>"
      ],
      "text/plain": [
       "     State_Alpha    fips2010 State County           cbsasub  \\\n",
       "1338          ME  2300102060    23      1  METRO30340M30340   \n",
       "1339          ME  2300119105    23      1  METRO30340M30340   \n",
       "1340          ME  2300129255    23      1  METRO30340M30340   \n",
       "1341          ME  2300138565    23      1  METRO30340M30340   \n",
       "1342          ME  2300138740    23      1  METRO30340M30340   \n",
       "\n",
       "              Metro_Area_Name          County_Name median2021  l50_1  l50_2  \\\n",
       "1338  Lewiston-Auburn, ME MSA  Androscoggin County      71200  24950  28500   \n",
       "1339  Lewiston-Auburn, ME MSA  Androscoggin County      71200  24950  28500   \n",
       "1340  Lewiston-Auburn, ME MSA  Androscoggin County      71200  24950  28500   \n",
       "1341  Lewiston-Auburn, ME MSA  Androscoggin County      71200  24950  28500   \n",
       "1342  Lewiston-Auburn, ME MSA  Androscoggin County      71200  24950  28500   \n",
       "\n",
       "      ...  l80_3  l80_4  l80_5  l80_6  l80_7  l80_8   MSA county_town_name  \\\n",
       "1338  ...  51300  56950  61550  66100  70650  75200  4240      Auburn city   \n",
       "1339  ...  51300  56950  61550  66100  70650  75200  9999      Durham town   \n",
       "1340  ...  51300  56950  61550  66100  70650  75200  4240      Greene town   \n",
       "1341  ...  51300  56950  61550  66100  70650  75200  9999       Leeds town   \n",
       "1342  ...  51300  56950  61550  66100  70650  75200  4240    Lewiston city   \n",
       "\n",
       "     state_name metro  \n",
       "1338      Maine     1  \n",
       "1339      Maine     1  \n",
       "1340      Maine     1  \n",
       "1341      Maine     1  \n",
       "1342      Maine     1  \n",
       "\n",
       "[5 rows x 36 columns]"
      ]
     },
     "execution_count": 13,
     "metadata": {},
     "output_type": "execute_result"
    }
   ],
   "source": [
    "hud_data[hud_data.State_Alpha=='ME'].head()"
   ]
  },
  {
   "cell_type": "code",
   "execution_count": 14,
   "id": "69dd43da-be80-4882-a954-ddf5b148aa99",
   "metadata": {},
   "outputs": [
    {
     "name": "stdout",
     "output_type": "stream",
     "text": [
      " * postgresql://matt@localhost/geocoder\n",
      "1 rows affected.\n"
     ]
    },
    {
     "data": {
      "text/html": [
       "<table>\n",
       "    <thead>\n",
       "        <tr>\n",
       "            <th>gid</th>\n",
       "            <th>statefp</th>\n",
       "            <th>countyfp</th>\n",
       "            <th>cousubfp</th>\n",
       "            <th>cousubns</th>\n",
       "            <th>cosbidfp</th>\n",
       "            <th>name</th>\n",
       "            <th>namelsad</th>\n",
       "            <th>lsad</th>\n",
       "            <th>classfp</th>\n",
       "            <th>mtfcc</th>\n",
       "            <th>cnectafp</th>\n",
       "            <th>nectafp</th>\n",
       "            <th>nctadvfp</th>\n",
       "            <th>funcstat</th>\n",
       "            <th>aland</th>\n",
       "            <th>awater</th>\n",
       "            <th>intptlat</th>\n",
       "            <th>intptlon</th>\n",
       "            <th>the_geom</th>\n",
       "        </tr>\n",
       "    </thead>\n",
       "    <tbody>\n",
       "        <tr>\n",
       "            <td>12983</td>\n",
       "            <td>23</td>\n",
       "            <td>001</td>\n",
       "            <td>19105</td>\n",
       "            <td>00582448</td>\n",
       "            <td>2300119105</td>\n",
       "            <td>Durham</td>\n",
       "            <td>Durham town</td>\n",
       "            <td>43</td>\n",
       "            <td>T1</td>\n",
       "            <td>G4040</td>\n",
       "            <td>775</td>\n",
       "            <td>76750</td>\n",
       "            <td>None</td>\n",
       "            <td>A</td>\n",
       "            <td>99145269</td>\n",
       "            <td>1976257</td>\n",
       "            <td>+43.9560209</td>\n",
       "            <td>-070.1324175</td>\n",
       "            <td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td>\n",
       "        </tr>\n",
       "    </tbody>\n",
       "</table>"
      ],
      "text/plain": [
       "[(12983, '23', '001', '19105', '00582448', '2300119105', 'Durham', 'Durham town', '43', 'T1', 'G4040', '775', '76750', None, 'A', Decimal('99145269'), Decimal('1976257'), '+43.9560209', '-070.1324175', '0106000020AD100000010000000103000000010000006201000093FDF334608E51C0F6B52E3542FD454050A73CBA118E51C090A0F831E6FC454083C2A04CA38D51C0FE5F75E448FD45401 ... (11082 characters truncated) ... D51C05643E21E4BFB454098C28366D78D51C09A594B0169FB454099B7EA3A548E51C0B01D8CD827FC454078B306EFAB8E51C0001B1021AEFC454093FDF334608E51C0F6B52E3542FD4540')]"
      ]
     },
     "execution_count": 14,
     "metadata": {},
     "output_type": "execute_result"
    }
   ],
   "source": [
    "%sql select * from tiger.cousub where cosbidfp = '2300119105';"
   ]
  },
  {
   "cell_type": "markdown",
   "id": "84686b1e-f081-4624-a4ff-2444d8c2d1e9",
   "metadata": {},
   "source": [
    "Promising, let's see how many line up for real"
   ]
  },
  {
   "cell_type": "code",
   "execution_count": 15,
   "id": "14f622ee-a0eb-4a10-95a7-469a7a268839",
   "metadata": {},
   "outputs": [
    {
     "name": "stdout",
     "output_type": "stream",
     "text": [
      " * postgresql://matt@localhost/geocoder\n",
      "1618 rows affected.\n"
     ]
    }
   ],
   "source": [
    "cousub_query = %sql select cousub.cosbidfp, cousub.gid, cousub.namelsad from tiger.cousub cousub, tiger.state_lookup state where state.statefp=cousub.statefp and state.abbrev in ('ME', 'MA', 'NH', 'VT', 'CT', 'RI')"
   ]
  },
  {
   "cell_type": "code",
   "execution_count": 16,
   "id": "b93937a8-9fdf-4f3c-acdb-826d2f76d591",
   "metadata": {},
   "outputs": [],
   "source": [
    "cousubs = cousub_query.DataFrame()"
   ]
  },
  {
   "cell_type": "code",
   "execution_count": 17,
   "id": "0e40186d-efa2-4df6-8725-8bd8ccb3a637",
   "metadata": {},
   "outputs": [
    {
     "data": {
      "text/html": [
       "<div>\n",
       "<style scoped>\n",
       "    .dataframe tbody tr th:only-of-type {\n",
       "        vertical-align: middle;\n",
       "    }\n",
       "\n",
       "    .dataframe tbody tr th {\n",
       "        vertical-align: top;\n",
       "    }\n",
       "\n",
       "    .dataframe thead th {\n",
       "        text-align: right;\n",
       "    }\n",
       "</style>\n",
       "<table border=\"1\" class=\"dataframe\">\n",
       "  <thead>\n",
       "    <tr style=\"text-align: right;\">\n",
       "      <th></th>\n",
       "      <th>cosbidfp</th>\n",
       "      <th>gid</th>\n",
       "      <th>namelsad</th>\n",
       "    </tr>\n",
       "  </thead>\n",
       "  <tbody>\n",
       "    <tr>\n",
       "      <th>0</th>\n",
       "      <td>2502328285</td>\n",
       "      <td>2295</td>\n",
       "      <td>Hanover town</td>\n",
       "    </tr>\n",
       "    <tr>\n",
       "      <th>1</th>\n",
       "      <td>2502338855</td>\n",
       "      <td>2296</td>\n",
       "      <td>Marshfield town</td>\n",
       "    </tr>\n",
       "    <tr>\n",
       "      <th>2</th>\n",
       "      <td>2502350145</td>\n",
       "      <td>2297</td>\n",
       "      <td>Norwell town</td>\n",
       "    </tr>\n",
       "    <tr>\n",
       "      <th>3</th>\n",
       "      <td>2502372985</td>\n",
       "      <td>2298</td>\n",
       "      <td>Wareham town</td>\n",
       "    </tr>\n",
       "    <tr>\n",
       "      <th>4</th>\n",
       "      <td>2500300975</td>\n",
       "      <td>2299</td>\n",
       "      <td>Alford town</td>\n",
       "    </tr>\n",
       "  </tbody>\n",
       "</table>\n",
       "</div>"
      ],
      "text/plain": [
       "     cosbidfp   gid         namelsad\n",
       "0  2502328285  2295     Hanover town\n",
       "1  2502338855  2296  Marshfield town\n",
       "2  2502350145  2297     Norwell town\n",
       "3  2502372985  2298     Wareham town\n",
       "4  2500300975  2299      Alford town"
      ]
     },
     "execution_count": 17,
     "metadata": {},
     "output_type": "execute_result"
    }
   ],
   "source": [
    "cousubs.head()"
   ]
  },
  {
   "cell_type": "code",
   "execution_count": 26,
   "id": "e4cc14e2-1e6a-40a8-9120-0e1748a313ad",
   "metadata": {},
   "outputs": [],
   "source": [
    "hud_strange_subset = hud_data.loc[hud_data.State_Alpha.isin(hud_and_tiger[pd.isnull(hud_and_tiger.statefp)].value_counts('State_Alpha').index)]"
   ]
  },
  {
   "cell_type": "code",
   "execution_count": null,
   "id": "79b5e4f4-4768-47bb-91a0-2e2511bd0893",
   "metadata": {},
   "outputs": [],
   "source": []
  },
  {
   "cell_type": "code",
   "execution_count": 27,
   "id": "4a202728-f7a8-4d69-bbbb-7562a1652be6",
   "metadata": {},
   "outputs": [],
   "source": [
    "hud_cousubs = pd.merge(left=hud_strange_subset, right=cousubs, left_on='fips2010', right_on='cosbidfp', how='left')"
   ]
  },
  {
   "cell_type": "code",
   "execution_count": 28,
   "id": "861a7acc-5561-4652-a4ef-67c1eafe42fd",
   "metadata": {},
   "outputs": [
    {
     "data": {
      "text/plain": [
       "State_Alpha\n",
       "MO    116\n",
       "AS      1\n",
       "MP      1\n",
       "dtype: int64"
      ]
     },
     "execution_count": 28,
     "metadata": {},
     "output_type": "execute_result"
    }
   ],
   "source": [
    "hud_cousubs[pd.isnull(hud_cousubs.gid)].value_counts('State_Alpha')"
   ]
  },
  {
   "cell_type": "markdown",
   "id": "cbeabb82-b7c1-4f11-8ecd-1ce9995fdc2f",
   "metadata": {},
   "source": [
    "## Answer: _Mostly!_\n",
    "\n",
    "So for we have 10 codes that aren't county subdivisions in the north-east. The way I did this, those might just be counties, so let's look"
   ]
  },
  {
   "cell_type": "code",
   "execution_count": 21,
   "id": "c37a1436-c8d3-4860-a016-004cad4f8bd2",
   "metadata": {},
   "outputs": [
    {
     "data": {
      "text/html": [
       "<div>\n",
       "<style scoped>\n",
       "    .dataframe tbody tr th:only-of-type {\n",
       "        vertical-align: middle;\n",
       "    }\n",
       "\n",
       "    .dataframe tbody tr th {\n",
       "        vertical-align: top;\n",
       "    }\n",
       "\n",
       "    .dataframe thead th {\n",
       "        text-align: right;\n",
       "    }\n",
       "</style>\n",
       "<table border=\"1\" class=\"dataframe\">\n",
       "  <thead>\n",
       "    <tr style=\"text-align: right;\">\n",
       "      <th></th>\n",
       "      <th>State_Alpha</th>\n",
       "      <th>fips2010</th>\n",
       "      <th>State</th>\n",
       "      <th>County</th>\n",
       "      <th>cbsasub</th>\n",
       "      <th>Metro_Area_Name</th>\n",
       "      <th>County_Name</th>\n",
       "      <th>median2021</th>\n",
       "      <th>l50_1</th>\n",
       "      <th>l50_2</th>\n",
       "      <th>...</th>\n",
       "      <th>l80_6</th>\n",
       "      <th>l80_7</th>\n",
       "      <th>l80_8</th>\n",
       "      <th>MSA</th>\n",
       "      <th>county_town_name</th>\n",
       "      <th>state_name</th>\n",
       "      <th>metro</th>\n",
       "      <th>cosbidfp</th>\n",
       "      <th>gid</th>\n",
       "      <th>namelsad</th>\n",
       "    </tr>\n",
       "  </thead>\n",
       "  <tbody>\n",
       "  </tbody>\n",
       "</table>\n",
       "<p>0 rows × 39 columns</p>\n",
       "</div>"
      ],
      "text/plain": [
       "Empty DataFrame\n",
       "Columns: [State_Alpha, fips2010, State, County, cbsasub, Metro_Area_Name, County_Name, median2021, l50_1, l50_2, l50_3, l50_4, l50_5, l50_6, l50_7, l50_8, ELI_1, ELI_2, ELI_3, ELI_4, ELI_5, ELI_6, ELI_7, ELI_8, l80_1, l80_2, l80_3, l80_4, l80_5, l80_6, l80_7, l80_8, MSA, county_town_name, state_name, metro, cosbidfp, gid, namelsad]\n",
       "Index: []\n",
       "\n",
       "[0 rows x 39 columns]"
      ]
     },
     "execution_count": 21,
     "metadata": {},
     "output_type": "execute_result"
    }
   ],
   "source": [
    "hud_cousubs[pd.isnull(hud_cousubs.gid)]"
   ]
  },
  {
   "cell_type": "code",
   "execution_count": 22,
   "id": "1d846a33-a3bf-4360-8424-99b2603d500f",
   "metadata": {},
   "outputs": [
    {
     "data": {
      "text/plain": [
       "10"
      ]
     },
     "execution_count": 22,
     "metadata": {},
     "output_type": "execute_result"
    }
   ],
   "source": [
    "len('2300302760')"
   ]
  },
  {
   "cell_type": "markdown",
   "id": "cb7a2a41-0e1c-454c-b354-84a69c3f148c",
   "metadata": {},
   "source": [
    "Whelp, that's too bad --- those are still pretty confusing since they're not counties (they don't end in 99999) and they're not county subdivisions either. They're all 10-digits, which would suggest they _should_ be county subdivisions, which makes me wonder if they're simply older or newer than the 2010 data I loaded.\n",
    "\n",
    "But, doing a little more digging, I found the (official list of Maine County Subdivisions on census.gov)[https://www2.census.gov/geo/docs/reference/codes/files/st23_me_cousub.txt] and sure enough,  2300302760, 2300311020, and 2300356205 are all in there. It's unclear to me why those _aren't_ in my tiger data tho. Maybe they're in some older dataset?"
   ]
  },
  {
   "cell_type": "code",
   "execution_count": 23,
   "id": "a9e458f5-97e8-4121-86f3-22e9dea00247",
   "metadata": {},
   "outputs": [
    {
     "data": {
      "text/plain": [
       "0.9970625262274444"
      ]
     },
     "execution_count": 23,
     "metadata": {},
     "output_type": "execute_result"
    }
   ],
   "source": [
    "(4766-14)/4766"
   ]
  },
  {
   "cell_type": "markdown",
   "id": "d611fa3b-839a-4078-bf65-8cbd476c39fa",
   "metadata": {},
   "source": [
    "# So, where do we go from here?\n",
    "\n",
    "My intermediate product (which will be used to is going to need \n",
    "\n",
    "* Addresess\n",
    "* fips2010\n",
    "* census tract\n",
    "* AMI\n",
    "* Tract median income\n",
    "\n",
    "So, if I wanted an intermediate table to make that easier, I could do\n",
    "\n",
    "* fips2010 (which is the PK of HUD's data, effectively)\n",
    "* fkey to hud data (assuming I don't use the fips2010 as an fkey, which I probably won't?)\n",
    "* state fips\n",
    "* county fips\n",
    "* fkey to tiger.county\n",
    "* census tract if the fips2010 links to it\n",
    "* fkey to tiger.tract\n",
    "* area geometry (regardless of county or tract)\n",
    "\n",
    "Then I can query addresses in there and pretty quickly get to the other data I want"
   ]
  }
 ],
 "metadata": {
  "kernelspec": {
   "display_name": "Python 3 (ipykernel)",
   "language": "python",
   "name": "python3"
  },
  "language_info": {
   "codemirror_mode": {
    "name": "ipython",
    "version": 3
   },
   "file_extension": ".py",
   "mimetype": "text/x-python",
   "name": "python",
   "nbconvert_exporter": "python",
   "pygments_lexer": "ipython3",
   "version": "3.10.11"
  }
 },
 "nbformat": 4,
 "nbformat_minor": 5
}
